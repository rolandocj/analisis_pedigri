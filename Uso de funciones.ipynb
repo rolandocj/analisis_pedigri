{
 "cells": [
  {
   "cell_type": "code",
   "execution_count": 1,
   "metadata": {},
   "outputs": [],
   "source": [
    "from modulos.analisis_pedigri import *"
   ]
  },
  {
   "cell_type": "code",
   "execution_count": 2,
   "metadata": {},
   "outputs": [],
   "source": [
    "import warnings\n",
    "warnings.filterwarnings(\"ignore\")"
   ]
  },
  {
   "cell_type": "code",
   "execution_count": 3,
   "metadata": {},
   "outputs": [],
   "source": [
    "import pandas as pd\n",
    "import numpy as np\n",
    "from IPython.display import Image\n",
    "pd.options.display.max_columns = None"
   ]
  },
  {
   "cell_type": "markdown",
   "metadata": {},
   "source": [
    "# Uso de funciones para análisis de pedigrí"
   ]
  },
  {
   "cell_type": "markdown",
   "metadata": {},
   "source": [
    "## Cálculo de la verosimilitud de un pedigrí"
   ]
  },
  {
   "cell_type": "markdown",
   "metadata": {},
   "source": [
    "Se calcula la verosimilitud para el siguiente pedigrí, en el que se cuenta con los genotipos de tres personas. \n",
    "\n",
    "Para ello se hace uso de la función **verosimilitud_pedigri** que requiere las frecuencias de los alelos, las relaciones de parentesco y los genotipos conocidos.\n",
    "\n",
    "Primero se muestran el uso de algunas funciones que corresponden a pasos intermedios, aunque estos no son necesarios para usar la función **verosimilitud_pedigri**, ya que los hace internamente."
   ]
  },
  {
   "cell_type": "code",
   "execution_count": 4,
   "metadata": {},
   "outputs": [
    {
     "data": {
      "image/png": "[encoded data removed]",
      "text/plain": [
       "<IPython.core.display.Image object>"
      ]
     },
     "execution_count": 4,
     "metadata": {},
     "output_type": "execute_result"
    }
   ],
   "source": [
    "Image(filename='figuras/rb_pedigri_ve_ejemplo.png')"
   ]
  },
  {
   "cell_type": "markdown",
   "metadata": {},
   "source": [
    "#### Definición de parámetros de la población"
   ]
  },
  {
   "cell_type": "code",
   "execution_count": 5,
   "metadata": {},
   "outputs": [],
   "source": [
    "frecuencias_alelos = np.array([0.1 , 0.14, 0.24, 0.04, 0.48])"
   ]
  },
  {
   "cell_type": "code",
   "execution_count": 6,
   "metadata": {},
   "outputs": [
    {
     "data": {
      "text/plain": [
       "1.0"
      ]
     },
     "execution_count": 6,
     "metadata": {},
     "output_type": "execute_result"
    }
   ],
   "source": [
    "frecuencias_alelos.sum()"
   ]
  },
  {
   "cell_type": "code",
   "execution_count": 7,
   "metadata": {},
   "outputs": [],
   "source": [
    "alelos = ['a_1', 'a_2', 'a_3', 'a_4', 'a_5']"
   ]
  },
  {
   "cell_type": "markdown",
   "metadata": {},
   "source": [
    "#### Información de los miembros del pedigrí"
   ]
  },
  {
   "cell_type": "code",
   "execution_count": 8,
   "metadata": {},
   "outputs": [],
   "source": [
    "fundadores = ['P1', 'P2', 'P4', 'P5']\n",
    "descendientes = ['P3', 'P6', 'P7']\n",
    "# persona:(padre, madre)\n",
    "dict_relaciones_persona_padres = {'P3':('P1','P2'), 'P6':('P3','P4'), 'P6':('P3','P4'), 'P7':('P5','P6')}\n",
    "personas_observadas = ['P2', 'P5', 'P7']\n",
    "personas_no_observadas = ['P1', 'P3', 'P4', 'P6']"
   ]
  },
  {
   "cell_type": "markdown",
   "metadata": {},
   "source": [
    "#### Genotipos observados"
   ]
  },
  {
   "cell_type": "code",
   "execution_count": 9,
   "metadata": {},
   "outputs": [
    {
     "data": {
      "text/html": [
       "<div>\n",
       "<style scoped>\n",
       "    .dataframe tbody tr th:only-of-type {\n",
       "        vertical-align: middle;\n",
       "    }\n",
       "\n",
       "    .dataframe tbody tr th {\n",
       "        vertical-align: top;\n",
       "    }\n",
       "\n",
       "    .dataframe thead th {\n",
       "        text-align: right;\n",
       "    }\n",
       "</style>\n",
       "<table border=\"1\" class=\"dataframe\">\n",
       "  <thead>\n",
       "    <tr style=\"text-align: right;\">\n",
       "      <th></th>\n",
       "      <th>alelo_1</th>\n",
       "      <th>alelo_2</th>\n",
       "    </tr>\n",
       "  </thead>\n",
       "  <tbody>\n",
       "    <tr>\n",
       "      <th>P2</th>\n",
       "      <td>a_1</td>\n",
       "      <td>a_3</td>\n",
       "    </tr>\n",
       "    <tr>\n",
       "      <th>P5</th>\n",
       "      <td>a_1</td>\n",
       "      <td>a_4</td>\n",
       "    </tr>\n",
       "    <tr>\n",
       "      <th>P7</th>\n",
       "      <td>a_1</td>\n",
       "      <td>a_3</td>\n",
       "    </tr>\n",
       "  </tbody>\n",
       "</table>\n",
       "</div>"
      ],
      "text/plain": [
       "   alelo_1 alelo_2\n",
       "P2     a_1     a_3\n",
       "P5     a_1     a_4\n",
       "P7     a_1     a_3"
      ]
     },
     "execution_count": 9,
     "metadata": {},
     "output_type": "execute_result"
    }
   ],
   "source": [
    "df_genotipos_observados = pd.DataFrame(data = [['a_1','a_3'],\n",
    "                                       ['a_1','a_4'],\n",
    "                                       ['a_1','a_3']],\n",
    "                                columns = ['alelo_1','alelo_2'], index = ['P2', 'P5', 'P7'])\n",
    "\n",
    "df_genotipos_observados"
   ]
  },
  {
   "cell_type": "markdown",
   "metadata": {},
   "source": [
    "#### Lista de genotipos ordenados\n",
    "Para calcular la verosimilitud se tienen que considerar los posibles órdenes de los genotipos \n",
    "\n",
    "Cada columna es un posible orden"
   ]
  },
  {
   "cell_type": "code",
   "execution_count": 10,
   "metadata": {},
   "outputs": [
    {
     "data": {
      "text/html": [
       "<div>\n",
       "<style scoped>\n",
       "    .dataframe tbody tr th:only-of-type {\n",
       "        vertical-align: middle;\n",
       "    }\n",
       "\n",
       "    .dataframe tbody tr th {\n",
       "        vertical-align: top;\n",
       "    }\n",
       "\n",
       "    .dataframe thead th {\n",
       "        text-align: right;\n",
       "    }\n",
       "</style>\n",
       "<table border=\"1\" class=\"dataframe\">\n",
       "  <thead>\n",
       "    <tr style=\"text-align: right;\">\n",
       "      <th></th>\n",
       "      <th>0</th>\n",
       "      <th>1</th>\n",
       "      <th>2</th>\n",
       "      <th>3</th>\n",
       "      <th>4</th>\n",
       "      <th>5</th>\n",
       "      <th>6</th>\n",
       "      <th>7</th>\n",
       "    </tr>\n",
       "  </thead>\n",
       "  <tbody>\n",
       "    <tr>\n",
       "      <th>P7_0</th>\n",
       "      <td>a_3</td>\n",
       "      <td>a_1</td>\n",
       "      <td>a_3</td>\n",
       "      <td>a_1</td>\n",
       "      <td>a_3</td>\n",
       "      <td>a_1</td>\n",
       "      <td>a_3</td>\n",
       "      <td>a_1</td>\n",
       "    </tr>\n",
       "    <tr>\n",
       "      <th>P7_1</th>\n",
       "      <td>a_1</td>\n",
       "      <td>a_3</td>\n",
       "      <td>a_1</td>\n",
       "      <td>a_3</td>\n",
       "      <td>a_1</td>\n",
       "      <td>a_3</td>\n",
       "      <td>a_1</td>\n",
       "      <td>a_3</td>\n",
       "    </tr>\n",
       "    <tr>\n",
       "      <th>P5_0</th>\n",
       "      <td>a_4</td>\n",
       "      <td>a_4</td>\n",
       "      <td>a_1</td>\n",
       "      <td>a_1</td>\n",
       "      <td>a_4</td>\n",
       "      <td>a_4</td>\n",
       "      <td>a_1</td>\n",
       "      <td>a_1</td>\n",
       "    </tr>\n",
       "    <tr>\n",
       "      <th>P5_1</th>\n",
       "      <td>a_1</td>\n",
       "      <td>a_1</td>\n",
       "      <td>a_4</td>\n",
       "      <td>a_4</td>\n",
       "      <td>a_1</td>\n",
       "      <td>a_1</td>\n",
       "      <td>a_4</td>\n",
       "      <td>a_4</td>\n",
       "    </tr>\n",
       "    <tr>\n",
       "      <th>P2_0</th>\n",
       "      <td>a_3</td>\n",
       "      <td>a_3</td>\n",
       "      <td>a_3</td>\n",
       "      <td>a_3</td>\n",
       "      <td>a_1</td>\n",
       "      <td>a_1</td>\n",
       "      <td>a_1</td>\n",
       "      <td>a_1</td>\n",
       "    </tr>\n",
       "    <tr>\n",
       "      <th>P2_1</th>\n",
       "      <td>a_1</td>\n",
       "      <td>a_1</td>\n",
       "      <td>a_1</td>\n",
       "      <td>a_1</td>\n",
       "      <td>a_3</td>\n",
       "      <td>a_3</td>\n",
       "      <td>a_3</td>\n",
       "      <td>a_3</td>\n",
       "    </tr>\n",
       "  </tbody>\n",
       "</table>\n",
       "</div>"
      ],
      "text/plain": [
       "        0    1    2    3    4    5    6    7\n",
       "P7_0  a_3  a_1  a_3  a_1  a_3  a_1  a_3  a_1\n",
       "P7_1  a_1  a_3  a_1  a_3  a_1  a_3  a_1  a_3\n",
       "P5_0  a_4  a_4  a_1  a_1  a_4  a_4  a_1  a_1\n",
       "P5_1  a_1  a_1  a_4  a_4  a_1  a_1  a_4  a_4\n",
       "P2_0  a_3  a_3  a_3  a_3  a_1  a_1  a_1  a_1\n",
       "P2_1  a_1  a_1  a_1  a_1  a_3  a_3  a_3  a_3"
      ]
     },
     "execution_count": 10,
     "metadata": {},
     "output_type": "execute_result"
    }
   ],
   "source": [
    "enlistar_genotipos_ordenados(df_genotipos_observados, df_genotipos_observados.index)"
   ]
  },
  {
   "cell_type": "markdown",
   "metadata": {},
   "source": [
    "#### Tabla de la distribución de probabilidad condicional para los descendientes (Sin mutaciones)\n",
    "\n",
    "Esta es la DPC que se asocia a cada nodo de la red de alelos"
   ]
  },
  {
   "cell_type": "code",
   "execution_count": 11,
   "metadata": {},
   "outputs": [
    {
     "data": {
      "text/html": [
       "<div>\n",
       "<style scoped>\n",
       "    .dataframe tbody tr th:only-of-type {\n",
       "        vertical-align: middle;\n",
       "    }\n",
       "\n",
       "    .dataframe tbody tr th {\n",
       "        vertical-align: top;\n",
       "    }\n",
       "\n",
       "    .dataframe thead th {\n",
       "        text-align: right;\n",
       "    }\n",
       "</style>\n",
       "<table border=\"1\" class=\"dataframe\">\n",
       "  <thead>\n",
       "    <tr style=\"text-align: right;\">\n",
       "      <th></th>\n",
       "      <th>(a_1, a_1)</th>\n",
       "      <th>(a_1, a_2)</th>\n",
       "      <th>(a_1, a_3)</th>\n",
       "      <th>(a_1, a_4)</th>\n",
       "      <th>(a_1, a_5)</th>\n",
       "      <th>(a_2, a_1)</th>\n",
       "      <th>(a_2, a_2)</th>\n",
       "      <th>(a_2, a_3)</th>\n",
       "      <th>(a_2, a_4)</th>\n",
       "      <th>(a_2, a_5)</th>\n",
       "      <th>(a_3, a_1)</th>\n",
       "      <th>(a_3, a_2)</th>\n",
       "      <th>(a_3, a_3)</th>\n",
       "      <th>(a_3, a_4)</th>\n",
       "      <th>(a_3, a_5)</th>\n",
       "      <th>(a_4, a_1)</th>\n",
       "      <th>(a_4, a_2)</th>\n",
       "      <th>(a_4, a_3)</th>\n",
       "      <th>(a_4, a_4)</th>\n",
       "      <th>(a_4, a_5)</th>\n",
       "      <th>(a_5, a_1)</th>\n",
       "      <th>(a_5, a_2)</th>\n",
       "      <th>(a_5, a_3)</th>\n",
       "      <th>(a_5, a_4)</th>\n",
       "      <th>(a_5, a_5)</th>\n",
       "    </tr>\n",
       "  </thead>\n",
       "  <tbody>\n",
       "    <tr>\n",
       "      <th>a_1</th>\n",
       "      <td>1.0</td>\n",
       "      <td>0.5</td>\n",
       "      <td>0.5</td>\n",
       "      <td>0.5</td>\n",
       "      <td>0.5</td>\n",
       "      <td>0.5</td>\n",
       "      <td>0.0</td>\n",
       "      <td>0.0</td>\n",
       "      <td>0.0</td>\n",
       "      <td>0.0</td>\n",
       "      <td>0.5</td>\n",
       "      <td>0.0</td>\n",
       "      <td>0.0</td>\n",
       "      <td>0.0</td>\n",
       "      <td>0.0</td>\n",
       "      <td>0.5</td>\n",
       "      <td>0.0</td>\n",
       "      <td>0.0</td>\n",
       "      <td>0.0</td>\n",
       "      <td>0.0</td>\n",
       "      <td>0.5</td>\n",
       "      <td>0.0</td>\n",
       "      <td>0.0</td>\n",
       "      <td>0.0</td>\n",
       "      <td>0.0</td>\n",
       "    </tr>\n",
       "    <tr>\n",
       "      <th>a_2</th>\n",
       "      <td>0.0</td>\n",
       "      <td>0.5</td>\n",
       "      <td>0.0</td>\n",
       "      <td>0.0</td>\n",
       "      <td>0.0</td>\n",
       "      <td>0.5</td>\n",
       "      <td>1.0</td>\n",
       "      <td>0.5</td>\n",
       "      <td>0.5</td>\n",
       "      <td>0.5</td>\n",
       "      <td>0.0</td>\n",
       "      <td>0.5</td>\n",
       "      <td>0.0</td>\n",
       "      <td>0.0</td>\n",
       "      <td>0.0</td>\n",
       "      <td>0.0</td>\n",
       "      <td>0.5</td>\n",
       "      <td>0.0</td>\n",
       "      <td>0.0</td>\n",
       "      <td>0.0</td>\n",
       "      <td>0.0</td>\n",
       "      <td>0.5</td>\n",
       "      <td>0.0</td>\n",
       "      <td>0.0</td>\n",
       "      <td>0.0</td>\n",
       "    </tr>\n",
       "    <tr>\n",
       "      <th>a_3</th>\n",
       "      <td>0.0</td>\n",
       "      <td>0.0</td>\n",
       "      <td>0.5</td>\n",
       "      <td>0.0</td>\n",
       "      <td>0.0</td>\n",
       "      <td>0.0</td>\n",
       "      <td>0.0</td>\n",
       "      <td>0.5</td>\n",
       "      <td>0.0</td>\n",
       "      <td>0.0</td>\n",
       "      <td>0.5</td>\n",
       "      <td>0.5</td>\n",
       "      <td>1.0</td>\n",
       "      <td>0.5</td>\n",
       "      <td>0.5</td>\n",
       "      <td>0.0</td>\n",
       "      <td>0.0</td>\n",
       "      <td>0.5</td>\n",
       "      <td>0.0</td>\n",
       "      <td>0.0</td>\n",
       "      <td>0.0</td>\n",
       "      <td>0.0</td>\n",
       "      <td>0.5</td>\n",
       "      <td>0.0</td>\n",
       "      <td>0.0</td>\n",
       "    </tr>\n",
       "    <tr>\n",
       "      <th>a_4</th>\n",
       "      <td>0.0</td>\n",
       "      <td>0.0</td>\n",
       "      <td>0.0</td>\n",
       "      <td>0.5</td>\n",
       "      <td>0.0</td>\n",
       "      <td>0.0</td>\n",
       "      <td>0.0</td>\n",
       "      <td>0.0</td>\n",
       "      <td>0.5</td>\n",
       "      <td>0.0</td>\n",
       "      <td>0.0</td>\n",
       "      <td>0.0</td>\n",
       "      <td>0.0</td>\n",
       "      <td>0.5</td>\n",
       "      <td>0.0</td>\n",
       "      <td>0.5</td>\n",
       "      <td>0.5</td>\n",
       "      <td>0.5</td>\n",
       "      <td>1.0</td>\n",
       "      <td>0.5</td>\n",
       "      <td>0.0</td>\n",
       "      <td>0.0</td>\n",
       "      <td>0.0</td>\n",
       "      <td>0.5</td>\n",
       "      <td>0.0</td>\n",
       "    </tr>\n",
       "    <tr>\n",
       "      <th>a_5</th>\n",
       "      <td>0.0</td>\n",
       "      <td>0.0</td>\n",
       "      <td>0.0</td>\n",
       "      <td>0.0</td>\n",
       "      <td>0.5</td>\n",
       "      <td>0.0</td>\n",
       "      <td>0.0</td>\n",
       "      <td>0.0</td>\n",
       "      <td>0.0</td>\n",
       "      <td>0.5</td>\n",
       "      <td>0.0</td>\n",
       "      <td>0.0</td>\n",
       "      <td>0.0</td>\n",
       "      <td>0.0</td>\n",
       "      <td>0.5</td>\n",
       "      <td>0.0</td>\n",
       "      <td>0.0</td>\n",
       "      <td>0.0</td>\n",
       "      <td>0.0</td>\n",
       "      <td>0.5</td>\n",
       "      <td>0.5</td>\n",
       "      <td>0.5</td>\n",
       "      <td>0.5</td>\n",
       "      <td>0.5</td>\n",
       "      <td>1.0</td>\n",
       "    </tr>\n",
       "  </tbody>\n",
       "</table>\n",
       "</div>"
      ],
      "text/plain": [
       "     (a_1, a_1)  (a_1, a_2)  (a_1, a_3)  (a_1, a_4)  (a_1, a_5)  (a_2, a_1)  \\\n",
       "a_1         1.0         0.5         0.5         0.5         0.5         0.5   \n",
       "a_2         0.0         0.5         0.0         0.0         0.0         0.5   \n",
       "a_3         0.0         0.0         0.5         0.0         0.0         0.0   \n",
       "a_4         0.0         0.0         0.0         0.5         0.0         0.0   \n",
       "a_5         0.0         0.0         0.0         0.0         0.5         0.0   \n",
       "\n",
       "     (a_2, a_2)  (a_2, a_3)  (a_2, a_4)  (a_2, a_5)  (a_3, a_1)  (a_3, a_2)  \\\n",
       "a_1         0.0         0.0         0.0         0.0         0.5         0.0   \n",
       "a_2         1.0         0.5         0.5         0.5         0.0         0.5   \n",
       "a_3         0.0         0.5         0.0         0.0         0.5         0.5   \n",
       "a_4         0.0         0.0         0.5         0.0         0.0         0.0   \n",
       "a_5         0.0         0.0         0.0         0.5         0.0         0.0   \n",
       "\n",
       "     (a_3, a_3)  (a_3, a_4)  (a_3, a_5)  (a_4, a_1)  (a_4, a_2)  (a_4, a_3)  \\\n",
       "a_1         0.0         0.0         0.0         0.5         0.0         0.0   \n",
       "a_2         0.0         0.0         0.0         0.0         0.5         0.0   \n",
       "a_3         1.0         0.5         0.5         0.0         0.0         0.5   \n",
       "a_4         0.0         0.5         0.0         0.5         0.5         0.5   \n",
       "a_5         0.0         0.0         0.5         0.0         0.0         0.0   \n",
       "\n",
       "     (a_4, a_4)  (a_4, a_5)  (a_5, a_1)  (a_5, a_2)  (a_5, a_3)  (a_5, a_4)  \\\n",
       "a_1         0.0         0.0         0.5         0.0         0.0         0.0   \n",
       "a_2         0.0         0.0         0.0         0.5         0.0         0.0   \n",
       "a_3         0.0         0.0         0.0         0.0         0.5         0.0   \n",
       "a_4         1.0         0.5         0.0         0.0         0.0         0.5   \n",
       "a_5         0.0         0.5         0.5         0.5         0.5         0.5   \n",
       "\n",
       "     (a_5, a_5)  \n",
       "a_1         0.0  \n",
       "a_2         0.0  \n",
       "a_3         0.0  \n",
       "a_4         0.0  \n",
       "a_5         1.0  "
      ]
     },
     "execution_count": 11,
     "metadata": {},
     "output_type": "execute_result"
    }
   ],
   "source": [
    "tabla_herencia(alelos, modelo_herencia_mendeliano)"
   ]
  },
  {
   "cell_type": "markdown",
   "metadata": {},
   "source": [
    "#### Aristas de la red de alelos"
   ]
  },
  {
   "cell_type": "code",
   "execution_count": 12,
   "metadata": {},
   "outputs": [
    {
     "data": {
      "text/plain": [
       "[('P1_1', 'P3_1'),\n",
       " ('P1_0', 'P3_1'),\n",
       " ('P2_1', 'P3_0'),\n",
       " ('P2_0', 'P3_0'),\n",
       " ('P3_1', 'P6_1'),\n",
       " ('P3_0', 'P6_1'),\n",
       " ('P4_1', 'P6_0'),\n",
       " ('P4_0', 'P6_0'),\n",
       " ('P5_1', 'P7_1'),\n",
       " ('P5_0', 'P7_1'),\n",
       " ('P6_1', 'P7_0'),\n",
       " ('P6_0', 'P7_0')]"
      ]
     },
     "execution_count": 12,
     "metadata": {},
     "output_type": "execute_result"
    }
   ],
   "source": [
    "crear_aristas_red_alelos(dict_relaciones_persona_padres)"
   ]
  },
  {
   "cell_type": "code",
   "execution_count": 13,
   "metadata": {},
   "outputs": [
    {
     "data": {
      "image/png": "[encoded data removed]",
      "text/plain": [
       "<IPython.core.display.Image object>"
      ]
     },
     "execution_count": 13,
     "metadata": {},
     "output_type": "execute_result"
    }
   ],
   "source": [
    "Image(filename='figuras/rb_alelos_ve_ejemplo.png')"
   ]
  },
  {
   "cell_type": "markdown",
   "metadata": {},
   "source": [
    "#### Cálculo de la verosimilitud\n",
    "\n",
    "La función requiere varios parámetros, entre los que se puede elegir el modelo de herencia y el orden de eliminación."
   ]
  },
  {
   "cell_type": "code",
   "execution_count": 14,
   "metadata": {},
   "outputs": [
    {
     "name": "stdout",
     "output_type": "stream",
     "text": [
      "Modelo válido : True\n",
      "Orden de eliminación:  ['P4_1', 'P4_0', 'P6_0', 'P1_0', 'P1_1', 'P3_1', 'P6_1', 'P3_0']\n"
     ]
    }
   ],
   "source": [
    "verosimilud = verosimilitud_pedigri(fundadores, descendientes,\n",
    "                                    dict_relaciones_persona_padres,\n",
    "                                    personas_observadas, personas_no_observadas,\n",
    "                                    alelos, frecuencias_alelos,\n",
    "                                    df_genotipos_observados,\n",
    "                                    modelo_herencia = modelo_herencia_mendeliano, \n",
    "                                    metodo_eliminacion = MinNeighbors,\n",
    "                                    return_genotipos_ordenados = False,\n",
    "                                    mostrar_model_check = True, mostrar_orden_eliminacion = True)"
   ]
  },
  {
   "cell_type": "code",
   "execution_count": 15,
   "metadata": {},
   "outputs": [
    {
     "data": {
      "text/plain": [
       "5.856000000000001e-05"
      ]
     },
     "execution_count": 15,
     "metadata": {},
     "output_type": "execute_result"
    }
   ],
   "source": [
    "verosimilud"
   ]
  },
  {
   "cell_type": "markdown",
   "metadata": {},
   "source": [
    "#### Cálculo de la verosimilitud con los genotipos ordenados\n",
    "\n",
    "En caso que se desee conocer el valor de la probabilidad marginal evaluada en cada genotipo ordenado, usar **return_genotipos_ordenados = True**"
   ]
  },
  {
   "cell_type": "code",
   "execution_count": 16,
   "metadata": {},
   "outputs": [
    {
     "name": "stdout",
     "output_type": "stream",
     "text": [
      "Modelo válido : True\n",
      "Orden de eliminación:  ['P4_1', 'P4_0', 'P6_0', 'P1_0', 'P1_1', 'P3_1', 'P6_1', 'P3_0']\n"
     ]
    }
   ],
   "source": [
    "genotipos_ordenados_verosimilud = verosimilitud_pedigri(fundadores, descendientes,\n",
    "                                                        dict_relaciones_persona_padres,\n",
    "                                                        personas_observadas, personas_no_observadas,\n",
    "                                                        alelos, frecuencias_alelos,\n",
    "                                                        df_genotipos_observados,\n",
    "                                                        modelo_herencia = modelo_herencia_mendeliano, \n",
    "                                                        metodo_eliminacion = MinNeighbors,\n",
    "                                                        return_genotipos_ordenados = True,\n",
    "                                                        mostrar_model_check = True, mostrar_orden_eliminacion = True)"
   ]
  },
  {
   "cell_type": "code",
   "execution_count": 17,
   "metadata": {},
   "outputs": [
    {
     "data": {
      "text/html": [
       "<div>\n",
       "<style scoped>\n",
       "    .dataframe tbody tr th:only-of-type {\n",
       "        vertical-align: middle;\n",
       "    }\n",
       "\n",
       "    .dataframe tbody tr th {\n",
       "        vertical-align: top;\n",
       "    }\n",
       "\n",
       "    .dataframe thead th {\n",
       "        text-align: right;\n",
       "    }\n",
       "</style>\n",
       "<table border=\"1\" class=\"dataframe\">\n",
       "  <thead>\n",
       "    <tr style=\"text-align: right;\">\n",
       "      <th></th>\n",
       "      <th>0</th>\n",
       "      <th>1</th>\n",
       "      <th>2</th>\n",
       "      <th>3</th>\n",
       "      <th>4</th>\n",
       "      <th>5</th>\n",
       "      <th>6</th>\n",
       "      <th>7</th>\n",
       "    </tr>\n",
       "  </thead>\n",
       "  <tbody>\n",
       "    <tr>\n",
       "      <th>P7_0</th>\n",
       "      <td>a_3</td>\n",
       "      <td>a_1</td>\n",
       "      <td>a_3</td>\n",
       "      <td>a_1</td>\n",
       "      <td>a_3</td>\n",
       "      <td>a_1</td>\n",
       "      <td>a_3</td>\n",
       "      <td>a_1</td>\n",
       "    </tr>\n",
       "    <tr>\n",
       "      <th>P7_1</th>\n",
       "      <td>a_1</td>\n",
       "      <td>a_3</td>\n",
       "      <td>a_1</td>\n",
       "      <td>a_3</td>\n",
       "      <td>a_1</td>\n",
       "      <td>a_3</td>\n",
       "      <td>a_1</td>\n",
       "      <td>a_3</td>\n",
       "    </tr>\n",
       "    <tr>\n",
       "      <th>P5_0</th>\n",
       "      <td>a_4</td>\n",
       "      <td>a_4</td>\n",
       "      <td>a_1</td>\n",
       "      <td>a_1</td>\n",
       "      <td>a_4</td>\n",
       "      <td>a_4</td>\n",
       "      <td>a_1</td>\n",
       "      <td>a_1</td>\n",
       "    </tr>\n",
       "    <tr>\n",
       "      <th>P5_1</th>\n",
       "      <td>a_1</td>\n",
       "      <td>a_1</td>\n",
       "      <td>a_4</td>\n",
       "      <td>a_4</td>\n",
       "      <td>a_1</td>\n",
       "      <td>a_1</td>\n",
       "      <td>a_4</td>\n",
       "      <td>a_4</td>\n",
       "    </tr>\n",
       "    <tr>\n",
       "      <th>P2_0</th>\n",
       "      <td>a_3</td>\n",
       "      <td>a_3</td>\n",
       "      <td>a_3</td>\n",
       "      <td>a_3</td>\n",
       "      <td>a_1</td>\n",
       "      <td>a_1</td>\n",
       "      <td>a_1</td>\n",
       "      <td>a_1</td>\n",
       "    </tr>\n",
       "    <tr>\n",
       "      <th>P2_1</th>\n",
       "      <td>a_1</td>\n",
       "      <td>a_1</td>\n",
       "      <td>a_1</td>\n",
       "      <td>a_1</td>\n",
       "      <td>a_3</td>\n",
       "      <td>a_3</td>\n",
       "      <td>a_3</td>\n",
       "      <td>a_3</td>\n",
       "    </tr>\n",
       "    <tr>\n",
       "      <th>Probabilidad</th>\n",
       "      <td>1.464e-05</td>\n",
       "      <td>0</td>\n",
       "      <td>1.464e-05</td>\n",
       "      <td>0</td>\n",
       "      <td>1.464e-05</td>\n",
       "      <td>0</td>\n",
       "      <td>1.464e-05</td>\n",
       "      <td>0</td>\n",
       "    </tr>\n",
       "  </tbody>\n",
       "</table>\n",
       "</div>"
      ],
      "text/plain": [
       "                      0    1          2    3          4    5          6    7\n",
       "P7_0                a_3  a_1        a_3  a_1        a_3  a_1        a_3  a_1\n",
       "P7_1                a_1  a_3        a_1  a_3        a_1  a_3        a_1  a_3\n",
       "P5_0                a_4  a_4        a_1  a_1        a_4  a_4        a_1  a_1\n",
       "P5_1                a_1  a_1        a_4  a_4        a_1  a_1        a_4  a_4\n",
       "P2_0                a_3  a_3        a_3  a_3        a_1  a_1        a_1  a_1\n",
       "P2_1                a_1  a_1        a_1  a_1        a_3  a_3        a_3  a_3\n",
       "Probabilidad  1.464e-05    0  1.464e-05    0  1.464e-05    0  1.464e-05    0"
      ]
     },
     "execution_count": 17,
     "metadata": {},
     "output_type": "execute_result"
    }
   ],
   "source": [
    "genotipos_ordenados_verosimilud"
   ]
  },
  {
   "cell_type": "markdown",
   "metadata": {},
   "source": [
    "Para calcular la verosimilitud sólo hay que sumar sobre la última fila"
   ]
  },
  {
   "cell_type": "code",
   "execution_count": 18,
   "metadata": {},
   "outputs": [
    {
     "data": {
      "text/plain": [
       "5.856000000000001e-05"
      ]
     },
     "execution_count": 18,
     "metadata": {},
     "output_type": "execute_result"
    }
   ],
   "source": [
    "genotipos_ordenados_verosimilud.loc['Probabilidad'].sum()"
   ]
  },
  {
   "cell_type": "markdown",
   "metadata": {},
   "source": [
    "## Verosimilitud con mutaciones"
   ]
  },
  {
   "cell_type": "markdown",
   "metadata": {},
   "source": [
    "Primero se compara el modelo de herencia mendeliano contra uno de mutación constante."
   ]
  },
  {
   "cell_type": "markdown",
   "metadata": {},
   "source": [
    "### Modelo de herencia mendeliano"
   ]
  },
  {
   "cell_type": "markdown",
   "metadata": {},
   "source": [
    "#### Ejemplo: Progenitor homocigoto"
   ]
  },
  {
   "cell_type": "code",
   "execution_count": 19,
   "metadata": {},
   "outputs": [
    {
     "data": {
      "text/plain": [
       "1"
      ]
     },
     "execution_count": 19,
     "metadata": {},
     "output_type": "execute_result"
    }
   ],
   "source": [
    "alelo = 'a_1'\n",
    "alelos_progenitor = ('a_1', 'a_1')\n",
    "modelo_herencia_mendeliano(alelo, alelos_progenitor)"
   ]
  },
  {
   "cell_type": "markdown",
   "metadata": {},
   "source": [
    "#### Ejemplo: Progenitor heterocigoto"
   ]
  },
  {
   "cell_type": "code",
   "execution_count": 20,
   "metadata": {},
   "outputs": [
    {
     "data": {
      "text/plain": [
       "0.5"
      ]
     },
     "execution_count": 20,
     "metadata": {},
     "output_type": "execute_result"
    }
   ],
   "source": [
    "alelo = 'a_1'\n",
    "alelos_progenitor = ('a_1', 'a_2')\n",
    "modelo_herencia_mendeliano(alelo, alelos_progenitor)"
   ]
  },
  {
   "cell_type": "markdown",
   "metadata": {},
   "source": [
    "#### Incompatibildiad de alelos"
   ]
  },
  {
   "cell_type": "code",
   "execution_count": 21,
   "metadata": {},
   "outputs": [
    {
     "data": {
      "text/plain": [
       "0"
      ]
     },
     "execution_count": 21,
     "metadata": {},
     "output_type": "execute_result"
    }
   ],
   "source": [
    "alelo = 'a_1'\n",
    "alelos_progenitor = ('a_2', 'a_2')\n",
    "modelo_herencia_mendeliano(alelo, alelos_progenitor)"
   ]
  },
  {
   "cell_type": "markdown",
   "metadata": {},
   "source": [
    "### Modelo de herencia con mutaciones"
   ]
  },
  {
   "cell_type": "markdown",
   "metadata": {},
   "source": [
    "Se define el modelo de mutación. \n",
    "\n",
    "Note que en el caso que los genotipos son incompatibles, el modelo con mutaciones da un valor distinto de cero."
   ]
  },
  {
   "cell_type": "markdown",
   "metadata": {},
   "source": [
    "#### Modelo constante con tasa de mutación 0.007"
   ]
  },
  {
   "cell_type": "code",
   "execution_count": 22,
   "metadata": {},
   "outputs": [],
   "source": [
    "mu = 0.007\n",
    "n_alelos = 5\n",
    "modelo_mutacion_constante = crear_modelo_mutacion_constante(mu, n_alelos)\n",
    "modelo_herencia_mutacion_constante = crear_modelo_herencia(modelo_mutacion_constante)"
   ]
  },
  {
   "cell_type": "markdown",
   "metadata": {},
   "source": [
    "#### Ejemplo: Progenitor homocigoto"
   ]
  },
  {
   "cell_type": "code",
   "execution_count": 23,
   "metadata": {},
   "outputs": [
    {
     "data": {
      "text/plain": [
       "0.993"
      ]
     },
     "execution_count": 23,
     "metadata": {},
     "output_type": "execute_result"
    }
   ],
   "source": [
    "alelo = 'a_1'\n",
    "alelos_progenitor = ('a_1', 'a_1')\n",
    "modelo_herencia_mutacion_constante(alelo, alelos_progenitor)"
   ]
  },
  {
   "cell_type": "markdown",
   "metadata": {},
   "source": [
    "#### Ejemplo: Progenitor heterocigoto"
   ]
  },
  {
   "cell_type": "code",
   "execution_count": 24,
   "metadata": {},
   "outputs": [
    {
     "data": {
      "text/plain": [
       "0.497375"
      ]
     },
     "execution_count": 24,
     "metadata": {},
     "output_type": "execute_result"
    }
   ],
   "source": [
    "alelo = 'a_1'\n",
    "alelos_progenitor = ('a_1', 'a_2')\n",
    "modelo_herencia_mutacion_constante(alelo, alelos_progenitor)"
   ]
  },
  {
   "cell_type": "markdown",
   "metadata": {},
   "source": [
    "#### Incompatibildiad de alelos"
   ]
  },
  {
   "cell_type": "code",
   "execution_count": 25,
   "metadata": {},
   "outputs": [
    {
     "data": {
      "text/plain": [
       "0.00175"
      ]
     },
     "execution_count": 25,
     "metadata": {},
     "output_type": "execute_result"
    }
   ],
   "source": [
    "alelo = 'a_1'\n",
    "alelos_progenitor = ('a_2', 'a_2')\n",
    "modelo_herencia_mutacion_constante(alelo, alelos_progenitor)"
   ]
  },
  {
   "cell_type": "markdown",
   "metadata": {},
   "source": [
    "### Tabla de la distribución de probabilidad condicional"
   ]
  },
  {
   "cell_type": "markdown",
   "metadata": {},
   "source": [
    "#### Sin mutaciones"
   ]
  },
  {
   "cell_type": "code",
   "execution_count": 26,
   "metadata": {},
   "outputs": [
    {
     "data": {
      "text/html": [
       "<div>\n",
       "<style scoped>\n",
       "    .dataframe tbody tr th:only-of-type {\n",
       "        vertical-align: middle;\n",
       "    }\n",
       "\n",
       "    .dataframe tbody tr th {\n",
       "        vertical-align: top;\n",
       "    }\n",
       "\n",
       "    .dataframe thead th {\n",
       "        text-align: right;\n",
       "    }\n",
       "</style>\n",
       "<table border=\"1\" class=\"dataframe\">\n",
       "  <thead>\n",
       "    <tr style=\"text-align: right;\">\n",
       "      <th></th>\n",
       "      <th>(a_1, a_1)</th>\n",
       "      <th>(a_1, a_2)</th>\n",
       "      <th>(a_1, a_3)</th>\n",
       "      <th>(a_1, a_4)</th>\n",
       "      <th>(a_1, a_5)</th>\n",
       "      <th>(a_2, a_1)</th>\n",
       "      <th>(a_2, a_2)</th>\n",
       "      <th>(a_2, a_3)</th>\n",
       "      <th>(a_2, a_4)</th>\n",
       "      <th>(a_2, a_5)</th>\n",
       "      <th>(a_3, a_1)</th>\n",
       "      <th>(a_3, a_2)</th>\n",
       "      <th>(a_3, a_3)</th>\n",
       "      <th>(a_3, a_4)</th>\n",
       "      <th>(a_3, a_5)</th>\n",
       "      <th>(a_4, a_1)</th>\n",
       "      <th>(a_4, a_2)</th>\n",
       "      <th>(a_4, a_3)</th>\n",
       "      <th>(a_4, a_4)</th>\n",
       "      <th>(a_4, a_5)</th>\n",
       "      <th>(a_5, a_1)</th>\n",
       "      <th>(a_5, a_2)</th>\n",
       "      <th>(a_5, a_3)</th>\n",
       "      <th>(a_5, a_4)</th>\n",
       "      <th>(a_5, a_5)</th>\n",
       "    </tr>\n",
       "  </thead>\n",
       "  <tbody>\n",
       "    <tr>\n",
       "      <th>a_1</th>\n",
       "      <td>1.0</td>\n",
       "      <td>0.5</td>\n",
       "      <td>0.5</td>\n",
       "      <td>0.5</td>\n",
       "      <td>0.5</td>\n",
       "      <td>0.5</td>\n",
       "      <td>0.0</td>\n",
       "      <td>0.0</td>\n",
       "      <td>0.0</td>\n",
       "      <td>0.0</td>\n",
       "      <td>0.5</td>\n",
       "      <td>0.0</td>\n",
       "      <td>0.0</td>\n",
       "      <td>0.0</td>\n",
       "      <td>0.0</td>\n",
       "      <td>0.5</td>\n",
       "      <td>0.0</td>\n",
       "      <td>0.0</td>\n",
       "      <td>0.0</td>\n",
       "      <td>0.0</td>\n",
       "      <td>0.5</td>\n",
       "      <td>0.0</td>\n",
       "      <td>0.0</td>\n",
       "      <td>0.0</td>\n",
       "      <td>0.0</td>\n",
       "    </tr>\n",
       "    <tr>\n",
       "      <th>a_2</th>\n",
       "      <td>0.0</td>\n",
       "      <td>0.5</td>\n",
       "      <td>0.0</td>\n",
       "      <td>0.0</td>\n",
       "      <td>0.0</td>\n",
       "      <td>0.5</td>\n",
       "      <td>1.0</td>\n",
       "      <td>0.5</td>\n",
       "      <td>0.5</td>\n",
       "      <td>0.5</td>\n",
       "      <td>0.0</td>\n",
       "      <td>0.5</td>\n",
       "      <td>0.0</td>\n",
       "      <td>0.0</td>\n",
       "      <td>0.0</td>\n",
       "      <td>0.0</td>\n",
       "      <td>0.5</td>\n",
       "      <td>0.0</td>\n",
       "      <td>0.0</td>\n",
       "      <td>0.0</td>\n",
       "      <td>0.0</td>\n",
       "      <td>0.5</td>\n",
       "      <td>0.0</td>\n",
       "      <td>0.0</td>\n",
       "      <td>0.0</td>\n",
       "    </tr>\n",
       "    <tr>\n",
       "      <th>a_3</th>\n",
       "      <td>0.0</td>\n",
       "      <td>0.0</td>\n",
       "      <td>0.5</td>\n",
       "      <td>0.0</td>\n",
       "      <td>0.0</td>\n",
       "      <td>0.0</td>\n",
       "      <td>0.0</td>\n",
       "      <td>0.5</td>\n",
       "      <td>0.0</td>\n",
       "      <td>0.0</td>\n",
       "      <td>0.5</td>\n",
       "      <td>0.5</td>\n",
       "      <td>1.0</td>\n",
       "      <td>0.5</td>\n",
       "      <td>0.5</td>\n",
       "      <td>0.0</td>\n",
       "      <td>0.0</td>\n",
       "      <td>0.5</td>\n",
       "      <td>0.0</td>\n",
       "      <td>0.0</td>\n",
       "      <td>0.0</td>\n",
       "      <td>0.0</td>\n",
       "      <td>0.5</td>\n",
       "      <td>0.0</td>\n",
       "      <td>0.0</td>\n",
       "    </tr>\n",
       "    <tr>\n",
       "      <th>a_4</th>\n",
       "      <td>0.0</td>\n",
       "      <td>0.0</td>\n",
       "      <td>0.0</td>\n",
       "      <td>0.5</td>\n",
       "      <td>0.0</td>\n",
       "      <td>0.0</td>\n",
       "      <td>0.0</td>\n",
       "      <td>0.0</td>\n",
       "      <td>0.5</td>\n",
       "      <td>0.0</td>\n",
       "      <td>0.0</td>\n",
       "      <td>0.0</td>\n",
       "      <td>0.0</td>\n",
       "      <td>0.5</td>\n",
       "      <td>0.0</td>\n",
       "      <td>0.5</td>\n",
       "      <td>0.5</td>\n",
       "      <td>0.5</td>\n",
       "      <td>1.0</td>\n",
       "      <td>0.5</td>\n",
       "      <td>0.0</td>\n",
       "      <td>0.0</td>\n",
       "      <td>0.0</td>\n",
       "      <td>0.5</td>\n",
       "      <td>0.0</td>\n",
       "    </tr>\n",
       "    <tr>\n",
       "      <th>a_5</th>\n",
       "      <td>0.0</td>\n",
       "      <td>0.0</td>\n",
       "      <td>0.0</td>\n",
       "      <td>0.0</td>\n",
       "      <td>0.5</td>\n",
       "      <td>0.0</td>\n",
       "      <td>0.0</td>\n",
       "      <td>0.0</td>\n",
       "      <td>0.0</td>\n",
       "      <td>0.5</td>\n",
       "      <td>0.0</td>\n",
       "      <td>0.0</td>\n",
       "      <td>0.0</td>\n",
       "      <td>0.0</td>\n",
       "      <td>0.5</td>\n",
       "      <td>0.0</td>\n",
       "      <td>0.0</td>\n",
       "      <td>0.0</td>\n",
       "      <td>0.0</td>\n",
       "      <td>0.5</td>\n",
       "      <td>0.5</td>\n",
       "      <td>0.5</td>\n",
       "      <td>0.5</td>\n",
       "      <td>0.5</td>\n",
       "      <td>1.0</td>\n",
       "    </tr>\n",
       "  </tbody>\n",
       "</table>\n",
       "</div>"
      ],
      "text/plain": [
       "     (a_1, a_1)  (a_1, a_2)  (a_1, a_3)  (a_1, a_4)  (a_1, a_5)  (a_2, a_1)  \\\n",
       "a_1         1.0         0.5         0.5         0.5         0.5         0.5   \n",
       "a_2         0.0         0.5         0.0         0.0         0.0         0.5   \n",
       "a_3         0.0         0.0         0.5         0.0         0.0         0.0   \n",
       "a_4         0.0         0.0         0.0         0.5         0.0         0.0   \n",
       "a_5         0.0         0.0         0.0         0.0         0.5         0.0   \n",
       "\n",
       "     (a_2, a_2)  (a_2, a_3)  (a_2, a_4)  (a_2, a_5)  (a_3, a_1)  (a_3, a_2)  \\\n",
       "a_1         0.0         0.0         0.0         0.0         0.5         0.0   \n",
       "a_2         1.0         0.5         0.5         0.5         0.0         0.5   \n",
       "a_3         0.0         0.5         0.0         0.0         0.5         0.5   \n",
       "a_4         0.0         0.0         0.5         0.0         0.0         0.0   \n",
       "a_5         0.0         0.0         0.0         0.5         0.0         0.0   \n",
       "\n",
       "     (a_3, a_3)  (a_3, a_4)  (a_3, a_5)  (a_4, a_1)  (a_4, a_2)  (a_4, a_3)  \\\n",
       "a_1         0.0         0.0         0.0         0.5         0.0         0.0   \n",
       "a_2         0.0         0.0         0.0         0.0         0.5         0.0   \n",
       "a_3         1.0         0.5         0.5         0.0         0.0         0.5   \n",
       "a_4         0.0         0.5         0.0         0.5         0.5         0.5   \n",
       "a_5         0.0         0.0         0.5         0.0         0.0         0.0   \n",
       "\n",
       "     (a_4, a_4)  (a_4, a_5)  (a_5, a_1)  (a_5, a_2)  (a_5, a_3)  (a_5, a_4)  \\\n",
       "a_1         0.0         0.0         0.5         0.0         0.0         0.0   \n",
       "a_2         0.0         0.0         0.0         0.5         0.0         0.0   \n",
       "a_3         0.0         0.0         0.0         0.0         0.5         0.0   \n",
       "a_4         1.0         0.5         0.0         0.0         0.0         0.5   \n",
       "a_5         0.0         0.5         0.5         0.5         0.5         0.5   \n",
       "\n",
       "     (a_5, a_5)  \n",
       "a_1         0.0  \n",
       "a_2         0.0  \n",
       "a_3         0.0  \n",
       "a_4         0.0  \n",
       "a_5         1.0  "
      ]
     },
     "execution_count": 26,
     "metadata": {},
     "output_type": "execute_result"
    }
   ],
   "source": [
    "#es la dpc\n",
    "tabla_herencia(alelos, modelo_herencia_mendeliano)"
   ]
  },
  {
   "cell_type": "markdown",
   "metadata": {},
   "source": [
    "#### Con mutaciones"
   ]
  },
  {
   "cell_type": "code",
   "execution_count": 27,
   "metadata": {},
   "outputs": [
    {
     "data": {
      "text/html": [
       "<div>\n",
       "<style scoped>\n",
       "    .dataframe tbody tr th:only-of-type {\n",
       "        vertical-align: middle;\n",
       "    }\n",
       "\n",
       "    .dataframe tbody tr th {\n",
       "        vertical-align: top;\n",
       "    }\n",
       "\n",
       "    .dataframe thead th {\n",
       "        text-align: right;\n",
       "    }\n",
       "</style>\n",
       "<table border=\"1\" class=\"dataframe\">\n",
       "  <thead>\n",
       "    <tr style=\"text-align: right;\">\n",
       "      <th></th>\n",
       "      <th>(a_1, a_1)</th>\n",
       "      <th>(a_1, a_2)</th>\n",
       "      <th>(a_1, a_3)</th>\n",
       "      <th>(a_1, a_4)</th>\n",
       "      <th>(a_1, a_5)</th>\n",
       "      <th>(a_2, a_1)</th>\n",
       "      <th>(a_2, a_2)</th>\n",
       "      <th>(a_2, a_3)</th>\n",
       "      <th>(a_2, a_4)</th>\n",
       "      <th>(a_2, a_5)</th>\n",
       "      <th>(a_3, a_1)</th>\n",
       "      <th>(a_3, a_2)</th>\n",
       "      <th>(a_3, a_3)</th>\n",
       "      <th>(a_3, a_4)</th>\n",
       "      <th>(a_3, a_5)</th>\n",
       "      <th>(a_4, a_1)</th>\n",
       "      <th>(a_4, a_2)</th>\n",
       "      <th>(a_4, a_3)</th>\n",
       "      <th>(a_4, a_4)</th>\n",
       "      <th>(a_4, a_5)</th>\n",
       "      <th>(a_5, a_1)</th>\n",
       "      <th>(a_5, a_2)</th>\n",
       "      <th>(a_5, a_3)</th>\n",
       "      <th>(a_5, a_4)</th>\n",
       "      <th>(a_5, a_5)</th>\n",
       "    </tr>\n",
       "  </thead>\n",
       "  <tbody>\n",
       "    <tr>\n",
       "      <th>a_1</th>\n",
       "      <td>0.99300</td>\n",
       "      <td>0.497375</td>\n",
       "      <td>0.497375</td>\n",
       "      <td>0.497375</td>\n",
       "      <td>0.497375</td>\n",
       "      <td>0.497375</td>\n",
       "      <td>0.00175</td>\n",
       "      <td>0.001750</td>\n",
       "      <td>0.001750</td>\n",
       "      <td>0.001750</td>\n",
       "      <td>0.497375</td>\n",
       "      <td>0.001750</td>\n",
       "      <td>0.00175</td>\n",
       "      <td>0.001750</td>\n",
       "      <td>0.001750</td>\n",
       "      <td>0.497375</td>\n",
       "      <td>0.001750</td>\n",
       "      <td>0.001750</td>\n",
       "      <td>0.00175</td>\n",
       "      <td>0.001750</td>\n",
       "      <td>0.497375</td>\n",
       "      <td>0.001750</td>\n",
       "      <td>0.001750</td>\n",
       "      <td>0.001750</td>\n",
       "      <td>0.00175</td>\n",
       "    </tr>\n",
       "    <tr>\n",
       "      <th>a_2</th>\n",
       "      <td>0.00175</td>\n",
       "      <td>0.497375</td>\n",
       "      <td>0.001750</td>\n",
       "      <td>0.001750</td>\n",
       "      <td>0.001750</td>\n",
       "      <td>0.497375</td>\n",
       "      <td>0.99300</td>\n",
       "      <td>0.497375</td>\n",
       "      <td>0.497375</td>\n",
       "      <td>0.497375</td>\n",
       "      <td>0.001750</td>\n",
       "      <td>0.497375</td>\n",
       "      <td>0.00175</td>\n",
       "      <td>0.001750</td>\n",
       "      <td>0.001750</td>\n",
       "      <td>0.001750</td>\n",
       "      <td>0.497375</td>\n",
       "      <td>0.001750</td>\n",
       "      <td>0.00175</td>\n",
       "      <td>0.001750</td>\n",
       "      <td>0.001750</td>\n",
       "      <td>0.497375</td>\n",
       "      <td>0.001750</td>\n",
       "      <td>0.001750</td>\n",
       "      <td>0.00175</td>\n",
       "    </tr>\n",
       "    <tr>\n",
       "      <th>a_3</th>\n",
       "      <td>0.00175</td>\n",
       "      <td>0.001750</td>\n",
       "      <td>0.497375</td>\n",
       "      <td>0.001750</td>\n",
       "      <td>0.001750</td>\n",
       "      <td>0.001750</td>\n",
       "      <td>0.00175</td>\n",
       "      <td>0.497375</td>\n",
       "      <td>0.001750</td>\n",
       "      <td>0.001750</td>\n",
       "      <td>0.497375</td>\n",
       "      <td>0.497375</td>\n",
       "      <td>0.99300</td>\n",
       "      <td>0.497375</td>\n",
       "      <td>0.497375</td>\n",
       "      <td>0.001750</td>\n",
       "      <td>0.001750</td>\n",
       "      <td>0.497375</td>\n",
       "      <td>0.00175</td>\n",
       "      <td>0.001750</td>\n",
       "      <td>0.001750</td>\n",
       "      <td>0.001750</td>\n",
       "      <td>0.497375</td>\n",
       "      <td>0.001750</td>\n",
       "      <td>0.00175</td>\n",
       "    </tr>\n",
       "    <tr>\n",
       "      <th>a_4</th>\n",
       "      <td>0.00175</td>\n",
       "      <td>0.001750</td>\n",
       "      <td>0.001750</td>\n",
       "      <td>0.497375</td>\n",
       "      <td>0.001750</td>\n",
       "      <td>0.001750</td>\n",
       "      <td>0.00175</td>\n",
       "      <td>0.001750</td>\n",
       "      <td>0.497375</td>\n",
       "      <td>0.001750</td>\n",
       "      <td>0.001750</td>\n",
       "      <td>0.001750</td>\n",
       "      <td>0.00175</td>\n",
       "      <td>0.497375</td>\n",
       "      <td>0.001750</td>\n",
       "      <td>0.497375</td>\n",
       "      <td>0.497375</td>\n",
       "      <td>0.497375</td>\n",
       "      <td>0.99300</td>\n",
       "      <td>0.497375</td>\n",
       "      <td>0.001750</td>\n",
       "      <td>0.001750</td>\n",
       "      <td>0.001750</td>\n",
       "      <td>0.497375</td>\n",
       "      <td>0.00175</td>\n",
       "    </tr>\n",
       "    <tr>\n",
       "      <th>a_5</th>\n",
       "      <td>0.00175</td>\n",
       "      <td>0.001750</td>\n",
       "      <td>0.001750</td>\n",
       "      <td>0.001750</td>\n",
       "      <td>0.497375</td>\n",
       "      <td>0.001750</td>\n",
       "      <td>0.00175</td>\n",
       "      <td>0.001750</td>\n",
       "      <td>0.001750</td>\n",
       "      <td>0.497375</td>\n",
       "      <td>0.001750</td>\n",
       "      <td>0.001750</td>\n",
       "      <td>0.00175</td>\n",
       "      <td>0.001750</td>\n",
       "      <td>0.497375</td>\n",
       "      <td>0.001750</td>\n",
       "      <td>0.001750</td>\n",
       "      <td>0.001750</td>\n",
       "      <td>0.00175</td>\n",
       "      <td>0.497375</td>\n",
       "      <td>0.497375</td>\n",
       "      <td>0.497375</td>\n",
       "      <td>0.497375</td>\n",
       "      <td>0.497375</td>\n",
       "      <td>0.99300</td>\n",
       "    </tr>\n",
       "  </tbody>\n",
       "</table>\n",
       "</div>"
      ],
      "text/plain": [
       "     (a_1, a_1)  (a_1, a_2)  (a_1, a_3)  (a_1, a_4)  (a_1, a_5)  (a_2, a_1)  \\\n",
       "a_1     0.99300    0.497375    0.497375    0.497375    0.497375    0.497375   \n",
       "a_2     0.00175    0.497375    0.001750    0.001750    0.001750    0.497375   \n",
       "a_3     0.00175    0.001750    0.497375    0.001750    0.001750    0.001750   \n",
       "a_4     0.00175    0.001750    0.001750    0.497375    0.001750    0.001750   \n",
       "a_5     0.00175    0.001750    0.001750    0.001750    0.497375    0.001750   \n",
       "\n",
       "     (a_2, a_2)  (a_2, a_3)  (a_2, a_4)  (a_2, a_5)  (a_3, a_1)  (a_3, a_2)  \\\n",
       "a_1     0.00175    0.001750    0.001750    0.001750    0.497375    0.001750   \n",
       "a_2     0.99300    0.497375    0.497375    0.497375    0.001750    0.497375   \n",
       "a_3     0.00175    0.497375    0.001750    0.001750    0.497375    0.497375   \n",
       "a_4     0.00175    0.001750    0.497375    0.001750    0.001750    0.001750   \n",
       "a_5     0.00175    0.001750    0.001750    0.497375    0.001750    0.001750   \n",
       "\n",
       "     (a_3, a_3)  (a_3, a_4)  (a_3, a_5)  (a_4, a_1)  (a_4, a_2)  (a_4, a_3)  \\\n",
       "a_1     0.00175    0.001750    0.001750    0.497375    0.001750    0.001750   \n",
       "a_2     0.00175    0.001750    0.001750    0.001750    0.497375    0.001750   \n",
       "a_3     0.99300    0.497375    0.497375    0.001750    0.001750    0.497375   \n",
       "a_4     0.00175    0.497375    0.001750    0.497375    0.497375    0.497375   \n",
       "a_5     0.00175    0.001750    0.497375    0.001750    0.001750    0.001750   \n",
       "\n",
       "     (a_4, a_4)  (a_4, a_5)  (a_5, a_1)  (a_5, a_2)  (a_5, a_3)  (a_5, a_4)  \\\n",
       "a_1     0.00175    0.001750    0.497375    0.001750    0.001750    0.001750   \n",
       "a_2     0.00175    0.001750    0.001750    0.497375    0.001750    0.001750   \n",
       "a_3     0.00175    0.001750    0.001750    0.001750    0.497375    0.001750   \n",
       "a_4     0.99300    0.497375    0.001750    0.001750    0.001750    0.497375   \n",
       "a_5     0.00175    0.497375    0.497375    0.497375    0.497375    0.497375   \n",
       "\n",
       "     (a_5, a_5)  \n",
       "a_1     0.00175  \n",
       "a_2     0.00175  \n",
       "a_3     0.00175  \n",
       "a_4     0.00175  \n",
       "a_5     0.99300  "
      ]
     },
     "execution_count": 27,
     "metadata": {},
     "output_type": "execute_result"
    }
   ],
   "source": [
    "#es la dpc\n",
    "tabla_herencia(alelos, modelo_herencia_mutacion_constante)"
   ]
  },
  {
   "cell_type": "markdown",
   "metadata": {},
   "source": [
    "#### Cálculo de la verosimilitud"
   ]
  },
  {
   "cell_type": "markdown",
   "metadata": {},
   "source": [
    "Sólo hay que cambiar el valor de **modelo_herencia**, en este caso es **modelo_herencia = modelo_herencia_mutacion_constante**"
   ]
  },
  {
   "cell_type": "code",
   "execution_count": 28,
   "metadata": {},
   "outputs": [
    {
     "name": "stdout",
     "output_type": "stream",
     "text": [
      "Modelo válido : True\n",
      "Orden de eliminación:  ['P4_1', 'P4_0', 'P6_0', 'P1_0', 'P1_1', 'P3_1', 'P6_1', 'P3_0']\n"
     ]
    }
   ],
   "source": [
    "verosimilud_m = verosimilitud_pedigri(fundadores, descendientes,\n",
    "                                    dict_relaciones_persona_padres,\n",
    "                                    personas_observadas, personas_no_observadas,\n",
    "                                    alelos, frecuencias_alelos,\n",
    "                                    df_genotipos_observados,\n",
    "                                    modelo_herencia = modelo_herencia_mutacion_constante, \n",
    "                                    metodo_eliminacion = MinNeighbors,\n",
    "                                    return_genotipos_ordenados = False,\n",
    "                                    mostrar_model_check = True, mostrar_orden_eliminacion = True)"
   ]
  },
  {
   "cell_type": "code",
   "execution_count": 29,
   "metadata": {},
   "outputs": [
    {
     "data": {
      "text/plain": [
       "5.7897683423639544e-05"
      ]
     },
     "execution_count": 29,
     "metadata": {},
     "output_type": "execute_result"
    }
   ],
   "source": [
    "verosimilud_m"
   ]
  },
  {
   "cell_type": "markdown",
   "metadata": {},
   "source": [
    "#### Cálculo de la verosimilitud con los genotipos ordenados"
   ]
  },
  {
   "cell_type": "markdown",
   "metadata": {},
   "source": [
    "Como se esperaría, todos los genotipos ordenados (incluyendo a los que dan incompatibilidades) tienen probabilidad distinta de cero."
   ]
  },
  {
   "cell_type": "code",
   "execution_count": 30,
   "metadata": {},
   "outputs": [
    {
     "name": "stdout",
     "output_type": "stream",
     "text": [
      "Modelo válido : True\n",
      "Orden de eliminación:  ['P4_1', 'P4_0', 'P6_0', 'P1_0', 'P1_1', 'P3_1', 'P6_1', 'P3_0']\n"
     ]
    }
   ],
   "source": [
    "genotipos_ordenados_verosimilud_m = verosimilitud_pedigri(fundadores, descendientes,\n",
    "                                                        dict_relaciones_persona_padres,\n",
    "                                                        personas_observadas, personas_no_observadas,\n",
    "                                                        alelos, frecuencias_alelos,\n",
    "                                                        df_genotipos_observados,\n",
    "                                                        modelo_herencia = modelo_herencia_mutacion_constante, \n",
    "                                                        metodo_eliminacion = MinNeighbors,\n",
    "                                                        return_genotipos_ordenados = True,\n",
    "                                                        mostrar_model_check = True, mostrar_orden_eliminacion = True)"
   ]
  },
  {
   "cell_type": "code",
   "execution_count": 31,
   "metadata": {},
   "outputs": [
    {
     "data": {
      "text/html": [
       "<div>\n",
       "<style scoped>\n",
       "    .dataframe tbody tr th:only-of-type {\n",
       "        vertical-align: middle;\n",
       "    }\n",
       "\n",
       "    .dataframe tbody tr th {\n",
       "        vertical-align: top;\n",
       "    }\n",
       "\n",
       "    .dataframe thead th {\n",
       "        text-align: right;\n",
       "    }\n",
       "</style>\n",
       "<table border=\"1\" class=\"dataframe\">\n",
       "  <thead>\n",
       "    <tr style=\"text-align: right;\">\n",
       "      <th></th>\n",
       "      <th>0</th>\n",
       "      <th>1</th>\n",
       "      <th>2</th>\n",
       "      <th>3</th>\n",
       "      <th>4</th>\n",
       "      <th>5</th>\n",
       "      <th>6</th>\n",
       "      <th>7</th>\n",
       "    </tr>\n",
       "  </thead>\n",
       "  <tbody>\n",
       "    <tr>\n",
       "      <th>P7_0</th>\n",
       "      <td>a_3</td>\n",
       "      <td>a_1</td>\n",
       "      <td>a_3</td>\n",
       "      <td>a_1</td>\n",
       "      <td>a_3</td>\n",
       "      <td>a_1</td>\n",
       "      <td>a_3</td>\n",
       "      <td>a_1</td>\n",
       "    </tr>\n",
       "    <tr>\n",
       "      <th>P7_1</th>\n",
       "      <td>a_1</td>\n",
       "      <td>a_3</td>\n",
       "      <td>a_1</td>\n",
       "      <td>a_3</td>\n",
       "      <td>a_1</td>\n",
       "      <td>a_3</td>\n",
       "      <td>a_1</td>\n",
       "      <td>a_3</td>\n",
       "    </tr>\n",
       "    <tr>\n",
       "      <th>P5_0</th>\n",
       "      <td>a_4</td>\n",
       "      <td>a_4</td>\n",
       "      <td>a_1</td>\n",
       "      <td>a_1</td>\n",
       "      <td>a_4</td>\n",
       "      <td>a_4</td>\n",
       "      <td>a_1</td>\n",
       "      <td>a_1</td>\n",
       "    </tr>\n",
       "    <tr>\n",
       "      <th>P5_1</th>\n",
       "      <td>a_1</td>\n",
       "      <td>a_1</td>\n",
       "      <td>a_4</td>\n",
       "      <td>a_4</td>\n",
       "      <td>a_1</td>\n",
       "      <td>a_1</td>\n",
       "      <td>a_4</td>\n",
       "      <td>a_4</td>\n",
       "    </tr>\n",
       "    <tr>\n",
       "      <th>P2_0</th>\n",
       "      <td>a_3</td>\n",
       "      <td>a_3</td>\n",
       "      <td>a_3</td>\n",
       "      <td>a_3</td>\n",
       "      <td>a_1</td>\n",
       "      <td>a_1</td>\n",
       "      <td>a_1</td>\n",
       "      <td>a_1</td>\n",
       "    </tr>\n",
       "    <tr>\n",
       "      <th>P2_1</th>\n",
       "      <td>a_1</td>\n",
       "      <td>a_1</td>\n",
       "      <td>a_1</td>\n",
       "      <td>a_1</td>\n",
       "      <td>a_3</td>\n",
       "      <td>a_3</td>\n",
       "      <td>a_3</td>\n",
       "      <td>a_3</td>\n",
       "    </tr>\n",
       "    <tr>\n",
       "      <th>Probabilidad</th>\n",
       "      <td>1.44409e-05</td>\n",
       "      <td>3.35278e-08</td>\n",
       "      <td>1.44409e-05</td>\n",
       "      <td>3.35278e-08</td>\n",
       "      <td>1.44409e-05</td>\n",
       "      <td>3.35278e-08</td>\n",
       "      <td>1.44409e-05</td>\n",
       "      <td>3.35278e-08</td>\n",
       "    </tr>\n",
       "  </tbody>\n",
       "</table>\n",
       "</div>"
      ],
      "text/plain": [
       "                        0            1            2            3            4  \\\n",
       "P7_0                  a_3          a_1          a_3          a_1          a_3   \n",
       "P7_1                  a_1          a_3          a_1          a_3          a_1   \n",
       "P5_0                  a_4          a_4          a_1          a_1          a_4   \n",
       "P5_1                  a_1          a_1          a_4          a_4          a_1   \n",
       "P2_0                  a_3          a_3          a_3          a_3          a_1   \n",
       "P2_1                  a_1          a_1          a_1          a_1          a_3   \n",
       "Probabilidad  1.44409e-05  3.35278e-08  1.44409e-05  3.35278e-08  1.44409e-05   \n",
       "\n",
       "                        5            6            7  \n",
       "P7_0                  a_1          a_3          a_1  \n",
       "P7_1                  a_3          a_1          a_3  \n",
       "P5_0                  a_4          a_1          a_1  \n",
       "P5_1                  a_1          a_4          a_4  \n",
       "P2_0                  a_1          a_1          a_1  \n",
       "P2_1                  a_3          a_3          a_3  \n",
       "Probabilidad  3.35278e-08  1.44409e-05  3.35278e-08  "
      ]
     },
     "execution_count": 31,
     "metadata": {},
     "output_type": "execute_result"
    }
   ],
   "source": [
    "genotipos_ordenados_verosimilud_m"
   ]
  },
  {
   "cell_type": "markdown",
   "metadata": {},
   "source": [
    "Para calcular la verosimilitud sólo hay que sumar sobre la última fila"
   ]
  },
  {
   "cell_type": "code",
   "execution_count": 32,
   "metadata": {},
   "outputs": [
    {
     "data": {
      "text/plain": [
       "5.7897683423639544e-05"
      ]
     },
     "execution_count": 32,
     "metadata": {},
     "output_type": "execute_result"
    }
   ],
   "source": [
    "genotipos_ordenados_verosimilud_m.loc['Probabilidad'].sum()"
   ]
  },
  {
   "cell_type": "markdown",
   "metadata": {},
   "source": [
    "## Resumen: Cálculo directo"
   ]
  },
  {
   "cell_type": "markdown",
   "metadata": {},
   "source": [
    "La verosimilitud se puede calcular directamente con la función **verosimilitud_pedigri**"
   ]
  },
  {
   "cell_type": "code",
   "execution_count": 33,
   "metadata": {},
   "outputs": [],
   "source": [
    "frecuencias_alelos = np.array([0.1 , 0.14, 0.24, 0.04, 0.48])\n",
    "alelos = ['a_1', 'a_2', 'a_3', 'a_4', 'a_5']\n",
    "fundadores = ['P1', 'P2', 'P4', 'P5']\n",
    "\n",
    "descendientes = ['P3', 'P6', 'P7']\n",
    "# persona:(padre, madre)\n",
    "dict_relaciones_persona_padres = {'P3':('P1','P2'), 'P6':('P3','P4'), 'P6':('P3','P4'), 'P7':('P5','P6')}\n",
    "personas_observadas = ['P2', 'P5', 'P7']\n",
    "personas_no_observadas = ['P1', 'P3', 'P4', 'P6']\n",
    "\n",
    "df_genotipos_observados = pd.DataFrame(data = [['a_1','a_3'],\n",
    "                                       ['a_1','a_4'],\n",
    "                                       ['a_1','a_3']],\n",
    "                                columns = ['alelo_1','alelo_2'], index = ['P2', 'P5', 'P7'])\n",
    "\n",
    "verosimilud = verosimilitud_pedigri(fundadores, descendientes,\n",
    "                                    dict_relaciones_persona_padres,\n",
    "                                    personas_observadas, personas_no_observadas,\n",
    "                                    alelos, frecuencias_alelos,\n",
    "                                    df_genotipos_observados,\n",
    "                                    modelo_herencia = modelo_herencia_mendeliano, \n",
    "                                    metodo_eliminacion = MinNeighbors)"
   ]
  },
  {
   "cell_type": "code",
   "execution_count": 34,
   "metadata": {},
   "outputs": [
    {
     "data": {
      "text/plain": [
       "5.856000000000001e-05"
      ]
     },
     "execution_count": 34,
     "metadata": {},
     "output_type": "execute_result"
    }
   ],
   "source": [
    "verosimilud"
   ]
  },
  {
   "cell_type": "markdown",
   "metadata": {},
   "source": [
    "Con **help** se puede consultar la documentación de cada una de las funciones"
   ]
  },
  {
   "cell_type": "code",
   "execution_count": 35,
   "metadata": {},
   "outputs": [
    {
     "name": "stdout",
     "output_type": "stream",
     "text": [
      "Help on function verosimilitud_pedigri in module modulos.analisis_pedigri:\n",
      "\n",
      "verosimilitud_pedigri(fundadores, descendientes, dict_relaciones_persona_padres, personas_observadas, personas_no_observadas, alelos, frecuencias_alelos, df_genotipos_observados, modelo_herencia=<function modelo_herencia_mendeliano at 0x0000023AF53F90D0>, metodo_eliminacion=<class 'pgmpy.inference.EliminationOrder.MinNeighbors'>, return_genotipos_ordenados=False, mostrar_model_check=False, mostrar_orden_eliminacion=False, mostrar_avance_ve=False, mostrar_avance_inferencia=False)\n",
      "    Calcula la verosimilitud de un pedigrí a partir de los genotipos obsevados.\n",
      "    La verosimilitud del pedigrí es la suma de las evaluaciones de la distribución marginal sobre todos los genotipos ordenados.\n",
      "    Se requiere la información sobre las relaciones de parentesco, los genotipos observados, así como de los parámetros de la población y del modelo de herencia.\n",
      "    \n",
      "    Parameters\n",
      "    -------------\n",
      "    fundadores: list\n",
      "        Nombres de los fundadores\n",
      "    descendientes: list\n",
      "        Nombres de los descendientes\n",
      "    dict_relaciones_persona_padres: dict\n",
      "        Diccionario con las relaciones de la forma Persona:(Padre,Madre)\n",
      "    personas_observadas: list\n",
      "        Personas de las que se conoce su genotipo\n",
      "    personas_no_observadas: list\n",
      "        Personas sin información\n",
      "    alelos: list\n",
      "        Nombres de los alelos del locus\n",
      "    frecuencias_alelos: list\n",
      "        Frecuencias de los alelos del locus\n",
      "    df_genotipos_observados: pandas.DataFrame\n",
      "        Dataframe con la información de los genotipos observados (2 columnas) que tiene como indices los nombres de las personas.\n",
      "    modelo_herencia: function\n",
      "        Modelo de herencia para calcular Pr(alelo|alelos_progenitor). Por defecto modelo_herencia_mendeliano.\n",
      "    metodo_eliminacion: pgmpy.inference.EliminationOrder\n",
      "        Método de eliminación de variables. Por defecto MinNeighbors. Otros métodos son MinFill, MinWeight y WeightedMinFill.\n",
      "    return_genotipos_ordenados: bool\n",
      "        Regresar un dataframe con todos los genotipos ordenados generados con el cálculo de la marginal en cada uno.\n",
      "    mostrar_model_check: bool \n",
      "        Mostrar validación del modelo. Por defecto False.\n",
      "    mostrar_orden_eliminacion = False.\n",
      "        Mostrar el orden de eliminación. Por defecto False.\n",
      "    mostrar_avance_ve\n",
      "        Mostrar el progreso en el cálculo del orden de eliminación. Por defecto False.\n",
      "    mostrar_avance_inferencia\n",
      "        Mostrar el progreso en el cálculo de la distribución marginal. Por defecto False.\n",
      "    \n",
      "    Returns\n",
      "    -------------\n",
      "    La verosimilitud del pedigrí para los genotipos observados.\n",
      "    Si return_genotipos_ordenados = True, entonces se regresa un dataframe con todos los genotipos ordenados y la probabilidad marginal evaluada en cada uno.\n",
      "\n"
     ]
    }
   ],
   "source": [
    "help(verosimilitud_pedigri)"
   ]
  }
 ],
 "metadata": {
  "kernelspec": {
   "display_name": "Python 3",
   "language": "python",
   "name": "python3"
  },
  "language_info": {
   "codemirror_mode": {
    "name": "ipython",
    "version": 3
   },
   "file_extension": ".py",
   "mimetype": "text/x-python",
   "name": "python",
   "nbconvert_exporter": "python",
   "pygments_lexer": "ipython3",
   "version": "3.8.3"
  }
 },
 "nbformat": 4,
 "nbformat_minor": 4
}
